{
 "cells": [
  {
   "cell_type": "markdown",
   "metadata": {},
   "source": [
    "<center>\n",
    "    <h2>HỌC PHẦN: KHAI PHÁ DỮ LIỆU (7080509) </h2>\n",
    "    <h2 style='color:red'> Chương 2 - Phần 1: Thu thập và tích hợp dữ liệu </h2>\n",
    "</center>\n",
    "\n",
    "---\n",
    "<img src='Pic/Picture1.png' width='550px'>\n",
    "\n",
    "---\n",
    "*Copyright: Đặng Văn Nam - FIT.HUMG - BKACAD@2024*"
   ]
  },
  {
   "cell_type": "markdown",
   "metadata": {},
   "source": [
    "## VÍ DỤ: THU THẬP VÀ TÍCH HỢP DỮ LIỆU TỪ CÁC NGUỒN, CÁC ĐỊNH DẠNG KHÁC NHAU\n",
    "---\n",
    "\n",
    "**MÔ TẢ BÀI TOÁN:**\n",
    "Thu thập và tích hợp dữ liệu để cho biết 5 bang của nước Mỹ có mật độ dân số **CAO NHẤT, THẤP NHẤT** giai đoạn năm 2010\n",
    "\n",
    "<img src = 'Pic/USA_Population_Density.png' width='600px'>\n",
    "\n",
    "**THU THẬP DỮ LIỆU:**\n",
    "Để xác định được mật độ dân số các bang của Mỹ năm 2010 cần thu thập được dữ liệu về dân số các bang năm 2010 và dữ liệu về diện tích của các bang.\n",
    "\n",
    "- Dữ liệu dân số được thu thập từ Cục Điều tra Dân số Hoa Kỳ (U.S. Census Bureau): Lưu trữ trong file Excel state_population.xlsx\n",
    "- Dữ liệu diện tích được thu thập từ Cục Quản lý Đất đai (Bureau of Land Management - BLM): Lưu trữ trong file CSV state_areas.csv"
   ]
  },
  {
   "cell_type": "code",
   "execution_count": null,
   "metadata": {},
   "outputs": [],
   "source": [
    "#Gọi các thư viện sử dụng:\n",
    "\n",
    "\n"
   ]
  },
  {
   "cell_type": "markdown",
   "metadata": {},
   "source": [
    "## 1. Đọc dữ liệu dân số (file .excel)\n",
    "---\n",
    "* **Dữ liệu dân số (state_population.xlsx):** Lưu trữ trong file Excel từ năm 1990 đến năm 2013; Mỗi năm lưu trong một sheet bao gồm các thông tin: \n",
    "    * Số thứ tự\n",
    "    * state/region: Mã bang \n",
    "    * ages: nhóm tuổi: total (toàn bộ) - under 18 (dưới 18 tuổi)\n",
    "    * year: năm\n",
    "    * population: dân số"
   ]
  },
  {
   "cell_type": "code",
   "execution_count": null,
   "metadata": {},
   "outputs": [],
   "source": [
    "#Đọc dữ liệu từ file Excel: chọn năm 2010\n",
    "\n"
   ]
  },
  {
   "cell_type": "code",
   "execution_count": null,
   "metadata": {},
   "outputs": [],
   "source": [
    "#Lọc dữ liệu lấy thông tin tổng dân số của bang: ages = 'total'\n",
    "\n"
   ]
  },
  {
   "cell_type": "code",
   "execution_count": null,
   "metadata": {},
   "outputs": [],
   "source": [
    "#Tách lấy cột state/region và population:\n"
   ]
  },
  {
   "cell_type": "code",
   "execution_count": null,
   "metadata": {},
   "outputs": [],
   "source": []
  },
  {
   "cell_type": "markdown",
   "metadata": {},
   "source": [
    "## 2. Đọc dữ liệu diện tích (file .csv)\n",
    "---\n",
    "* **Dữ liệu diện tích (state_areas.csv):** Lưu trữ trong file CSV, thông tin diện tích các bang của nước Mỹ:\n",
    "    * state: Tên bang\n",
    "    * area: diện tích - dặm vuông sq.mi "
   ]
  },
  {
   "cell_type": "code",
   "execution_count": null,
   "metadata": {},
   "outputs": [],
   "source": [
    "#Đọc dữ liệu diện tích từ file .csv\n"
   ]
  },
  {
   "cell_type": "code",
   "execution_count": null,
   "metadata": {},
   "outputs": [],
   "source": []
  },
  {
   "cell_type": "markdown",
   "metadata": {},
   "source": [
    "## 3. Đọc dữ liệu mã bang (file .txt)\n",
    "---\n",
    "Dữ liệu mã bang state_code.txt. Lưu trữ trong file txt cho biết thông tin Tên và ký hiệu từng bang của Mỹ"
   ]
  },
  {
   "cell_type": "code",
   "execution_count": null,
   "metadata": {},
   "outputs": [],
   "source": []
  },
  {
   "cell_type": "code",
   "execution_count": null,
   "metadata": {},
   "outputs": [],
   "source": [
    "#Đọc dữ liệu từ file .txt\n"
   ]
  },
  {
   "cell_type": "markdown",
   "metadata": {},
   "source": [
    "## 4. Tích hợp dữ liệu từ các file khác nhau thành một file duy nhất\n",
    "---"
   ]
  },
  {
   "cell_type": "code",
   "execution_count": null,
   "metadata": {},
   "outputs": [],
   "source": [
    "class display(object):\n",
    "    \"\"\"Display HTML representation of multiple objects\"\"\"\n",
    "    template = \"\"\"<div style=\"float: left; padding: 10px;\">\n",
    "    <p style='font-family:\"Courier New\", Courier, monospace'>{0}</p>{1}\n",
    "    </div>\"\"\"\n",
    "    def __init__(self, *args):\n",
    "        self.args = args\n",
    "        \n",
    "    def _repr_html_(self):\n",
    "        return '\\n'.join(self.template.format(a, eval(a)._repr_html_())\n",
    "                         for a in self.args)\n",
    "    \n",
    "    def __repr__(self):\n",
    "        return '\\n\\n'.join(a + '\\n' + repr(eval(a))\n",
    "                           for a in self.args)"
   ]
  },
  {
   "cell_type": "code",
   "execution_count": null,
   "metadata": {},
   "outputs": [],
   "source": [
    "display('data_population_2010.head(10)', \n",
    "        'data_area.head(10)', \n",
    "        'data_code.head(10)')"
   ]
  },
  {
   "cell_type": "code",
   "execution_count": null,
   "metadata": {},
   "outputs": [],
   "source": []
  },
  {
   "cell_type": "code",
   "execution_count": null,
   "metadata": {},
   "outputs": [],
   "source": [
    "#Tích hợp data_code với data_area\n",
    "\n",
    "\n",
    "\n",
    "\n"
   ]
  },
  {
   "cell_type": "code",
   "execution_count": null,
   "metadata": {},
   "outputs": [],
   "source": [
    "#Tích hợp dữ liệu data với dữ liệu dân số:\n",
    "\n",
    "\n",
    "\n",
    "\n"
   ]
  },
  {
   "cell_type": "code",
   "execution_count": null,
   "metadata": {},
   "outputs": [],
   "source": [
    "#Chỉ lấy các cột quan trọng, bỏ các cột bị trùng lặp:\n",
    "\n",
    "\n",
    "\n",
    "\n"
   ]
  },
  {
   "cell_type": "code",
   "execution_count": null,
   "metadata": {},
   "outputs": [],
   "source": [
    "# Tính toán mật độ dân số population_density = 'population'/'area (sq. mi)', làm tròn ko lấy số lẻ\n",
    "\n",
    "\n",
    "\n"
   ]
  },
  {
   "cell_type": "code",
   "execution_count": null,
   "metadata": {},
   "outputs": [],
   "source": [
    "#Sắp xếp dữ liệu theo giá trị cột mật độ giảm dần:\n",
    "\n",
    "\n"
   ]
  },
  {
   "cell_type": "code",
   "execution_count": null,
   "metadata": {},
   "outputs": [],
   "source": [
    "#Trực quan hóa dữ liệu mật độ lên biểu đồ:\n",
    "\n",
    "\n"
   ]
  },
  {
   "cell_type": "code",
   "execution_count": null,
   "metadata": {},
   "outputs": [],
   "source": [
    "#5 bang có mật độ dân số lớn nhất năm 2010\n",
    "\n",
    "\n"
   ]
  },
  {
   "cell_type": "code",
   "execution_count": null,
   "metadata": {},
   "outputs": [],
   "source": [
    "#5 bang có mật độ dân số thấp nhất năm 2010\n",
    "\n",
    "\n"
   ]
  },
  {
   "cell_type": "code",
   "execution_count": null,
   "metadata": {},
   "outputs": [],
   "source": [
    "#Lưu dữ liệu ra file:\n",
    "\n",
    "\n"
   ]
  },
  {
   "cell_type": "code",
   "execution_count": null,
   "metadata": {},
   "outputs": [],
   "source": []
  },
  {
   "cell_type": "markdown",
   "metadata": {},
   "source": [
    "## BÀI TẬP THỰC HÀNH\n",
    "---\n",
    "Tập dữ liệu Data_Movies.xlsx lưu trữ danh sách các bộ phim đã công chiếu. Mỗi một bộ film bao gồm 25 thuộc tính khác nhau. Dữ liệu được lưu thành 3 sheet:\n",
    "* Sheet 1900s: Lưu trữ danh sách các bộ phim công chiếu trước năm 2000\n",
    "* Sheet 2000s: Lưu trữ danh sách những bộ phim công chiếu từ năm 2000 đến trước năm 2010.\n",
    "* Sheet 2010s: Lưu trữ danh sách những bộ phim công chiếu từ năm 2010 đến nay\n",
    "\n",
    "**YÊU CẦU:**\n",
    "\n",
    "1. Đọc dữ liệu từng sheet trong file excel và tích hợp thành một bảng dữ liệu duy nhất chứa tất cả các bộ phim.\n",
    "2. Tạo bảng dữ liệu mới chỉ sử dụng 7 thuộc tính quan trọng sau:\n",
    "    - Title: Tên phim\n",
    "    - Year: Năm phát hành\n",
    "    - Genres: Thể loại phim\n",
    "    - Country: Quốc gia\n",
    "    - Director: Đạo diễn phim\n",
    "    - User Votes: Số lượng người xem đánh giá\n",
    "    - IMDB Score: Điểm đánh giá trung bình\n",
    "    \n",
    "Sắp xếp các bộ phim theo thứ tự IMDB Score giảm dần, nếu bộ phim có IMDB Score bằng nhau thì sắp xếp theo thuộc tính User Votes giảm dần.\n",
    "\n",
    "3. Lưu dữ liệu ra file định dạng CSV: Data_Movies_OK.csv\n"
   ]
  },
  {
   "cell_type": "code",
   "execution_count": null,
   "metadata": {},
   "outputs": [],
   "source": [
    "#{SINH VIÊN VIẾT CODE XỬ LÝ VÀO ĐÂY}\n",
    "\n",
    "\n",
    "\n"
   ]
  },
  {
   "cell_type": "code",
   "execution_count": null,
   "metadata": {},
   "outputs": [],
   "source": []
  },
  {
   "cell_type": "code",
   "execution_count": null,
   "metadata": {},
   "outputs": [],
   "source": []
  },
  {
   "cell_type": "code",
   "execution_count": null,
   "metadata": {},
   "outputs": [],
   "source": []
  },
  {
   "cell_type": "code",
   "execution_count": null,
   "metadata": {},
   "outputs": [],
   "source": []
  },
  {
   "cell_type": "code",
   "execution_count": null,
   "metadata": {},
   "outputs": [],
   "source": []
  },
  {
   "cell_type": "code",
   "execution_count": null,
   "metadata": {},
   "outputs": [],
   "source": []
  },
  {
   "cell_type": "code",
   "execution_count": null,
   "metadata": {},
   "outputs": [],
   "source": []
  },
  {
   "cell_type": "code",
   "execution_count": null,
   "metadata": {},
   "outputs": [],
   "source": []
  }
 ],
 "metadata": {
  "kernelspec": {
   "display_name": "Python 3 (ipykernel)",
   "language": "python",
   "name": "python3"
  },
  "language_info": {
   "codemirror_mode": {
    "name": "ipython",
    "version": 3
   },
   "file_extension": ".py",
   "mimetype": "text/x-python",
   "name": "python",
   "nbconvert_exporter": "python",
   "pygments_lexer": "ipython3",
   "version": "3.11.4"
  },
  "vscode": {
   "interpreter": {
    "hash": "ad2bdc8ecc057115af97d19610ffacc2b4e99fae6737bb82f5d7fb13d2f2c186"
   }
  }
 },
 "nbformat": 4,
 "nbformat_minor": 2
}
